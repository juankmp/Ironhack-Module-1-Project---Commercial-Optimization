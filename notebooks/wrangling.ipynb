{
 "cells": [
  {
   "cell_type": "markdown",
   "metadata": {},
   "source": [
    "# Data Cleaning!\n"
   ]
  },
  {
   "cell_type": "code",
   "execution_count": 3,
   "metadata": {},
   "outputs": [],
   "source": [
    "import pandas as pd"
   ]
  },
  {
   "cell_type": "code",
   "execution_count": 271,
   "metadata": {},
   "outputs": [
    {
     "data": {
      "text/html": [
       "<div>\n",
       "<style scoped>\n",
       "    .dataframe tbody tr th:only-of-type {\n",
       "        vertical-align: middle;\n",
       "    }\n",
       "\n",
       "    .dataframe tbody tr th {\n",
       "        vertical-align: top;\n",
       "    }\n",
       "\n",
       "    .dataframe thead th {\n",
       "        text-align: right;\n",
       "    }\n",
       "</style>\n",
       "<table border=\"1\" class=\"dataframe\">\n",
       "  <thead>\n",
       "    <tr style=\"text-align: right;\">\n",
       "      <th></th>\n",
       "      <th>Unnamed: 0</th>\n",
       "      <th>id</th>\n",
       "      <th>name</th>\n",
       "      <th>position</th>\n",
       "      <th>lastName</th>\n",
       "      <th>age</th>\n",
       "      <th>gender</th>\n",
       "      <th>country</th>\n",
       "      <th>image</th>\n",
       "      <th>Source</th>\n",
       "      <th>worth</th>\n",
       "      <th>worthChange</th>\n",
       "      <th>realTimeWorth</th>\n",
       "      <th>realTimePosition</th>\n",
       "    </tr>\n",
       "  </thead>\n",
       "  <tbody>\n",
       "    <tr>\n",
       "      <th>0</th>\n",
       "      <td>0</td>\n",
       "      <td>3614</td>\n",
       "      <td>anant asavabhOKHIN &amp; FAMIly</td>\n",
       "      <td>NaN</td>\n",
       "      <td>NaN</td>\n",
       "      <td>NaN</td>\n",
       "      <td>NaN</td>\n",
       "      <td>NaN</td>\n",
       "      <td>NaN</td>\n",
       "      <td>NaN</td>\n",
       "      <td>NaN</td>\n",
       "      <td>NaN</td>\n",
       "      <td>NaN</td>\n",
       "      <td>NaN</td>\n",
       "    </tr>\n",
       "    <tr>\n",
       "      <th>1</th>\n",
       "      <td>1</td>\n",
       "      <td>6176</td>\n",
       "      <td>arash FERDOWSi</td>\n",
       "      <td>NaN</td>\n",
       "      <td>NaN</td>\n",
       "      <td>NaN</td>\n",
       "      <td>NaN</td>\n",
       "      <td>NaN</td>\n",
       "      <td>NaN</td>\n",
       "      <td>NaN</td>\n",
       "      <td>NaN</td>\n",
       "      <td>NaN</td>\n",
       "      <td>NaN</td>\n",
       "      <td>NaN</td>\n",
       "    </tr>\n",
       "    <tr>\n",
       "      <th>2</th>\n",
       "      <td>2</td>\n",
       "      <td>4405</td>\n",
       "      <td>banthoon LAMSAM &amp; FAmily</td>\n",
       "      <td>NaN</td>\n",
       "      <td>NaN</td>\n",
       "      <td>NaN</td>\n",
       "      <td>NaN</td>\n",
       "      <td>NaN</td>\n",
       "      <td>NaN</td>\n",
       "      <td>NaN</td>\n",
       "      <td>NaN</td>\n",
       "      <td>NaN</td>\n",
       "      <td>NaN</td>\n",
       "      <td>NaN</td>\n",
       "    </tr>\n",
       "    <tr>\n",
       "      <th>3</th>\n",
       "      <td>3</td>\n",
       "      <td>7374</td>\n",
       "      <td>BILL ADDERLEY &amp; Family</td>\n",
       "      <td>NaN</td>\n",
       "      <td>NaN</td>\n",
       "      <td>NaN</td>\n",
       "      <td>NaN</td>\n",
       "      <td>NaN</td>\n",
       "      <td>NaN</td>\n",
       "      <td>NaN</td>\n",
       "      <td>NaN</td>\n",
       "      <td>NaN</td>\n",
       "      <td>NaN</td>\n",
       "      <td>NaN</td>\n",
       "    </tr>\n",
       "    <tr>\n",
       "      <th>4</th>\n",
       "      <td>4</td>\n",
       "      <td>4404</td>\n",
       "      <td>boris zINGAREVICh</td>\n",
       "      <td>NaN</td>\n",
       "      <td>NaN</td>\n",
       "      <td>NaN</td>\n",
       "      <td>NaN</td>\n",
       "      <td>NaN</td>\n",
       "      <td>NaN</td>\n",
       "      <td>NaN</td>\n",
       "      <td>NaN</td>\n",
       "      <td>NaN</td>\n",
       "      <td>NaN</td>\n",
       "      <td>NaN</td>\n",
       "    </tr>\n",
       "  </tbody>\n",
       "</table>\n",
       "</div>"
      ],
      "text/plain": [
       "   Unnamed: 0    id                         name  position lastName  age  \\\n",
       "0           0  3614  anant asavabhOKHIN & FAMIly       NaN      NaN  NaN   \n",
       "1           1  6176               arash FERDOWSi       NaN      NaN  NaN   \n",
       "2           2  4405     banthoon LAMSAM & FAmily       NaN      NaN  NaN   \n",
       "3           3  7374       BILL ADDERLEY & Family       NaN      NaN  NaN   \n",
       "4           4  4404            boris zINGAREVICh       NaN      NaN  NaN   \n",
       "\n",
       "  gender country image Source worth worthChange  realTimeWorth  \\\n",
       "0    NaN     NaN   NaN    NaN   NaN         NaN            NaN   \n",
       "1    NaN     NaN   NaN    NaN   NaN         NaN            NaN   \n",
       "2    NaN     NaN   NaN    NaN   NaN         NaN            NaN   \n",
       "3    NaN     NaN   NaN    NaN   NaN         NaN            NaN   \n",
       "4    NaN     NaN   NaN    NaN   NaN         NaN            NaN   \n",
       "\n",
       "   realTimePosition  \n",
       "0               NaN  \n",
       "1               NaN  \n",
       "2               NaN  \n",
       "3               NaN  \n",
       "4               NaN  "
      ]
     },
     "execution_count": 271,
     "metadata": {},
     "output_type": "execute_result"
    }
   ],
   "source": [
    "#df_per_info = pd.read_csv('/home/usuario/Documentos/Ironhack/Ironhack-Module-1-Project---Commercial-Optimization/data/raw/perinfo_origin.csv')\n",
    "#df_bus_info = pd.read_csv('/home/usuario/Documentos/Ironhack/Ironhack-Module-1-Project---Commercial-Optimization/data/raw/businfo_origin.csv')\n",
    "#df_ran_info = pd.read_csv('/home/usuario/Documentos/Ironhack/Ironhack-Module-1-Project---Commercial-Optimization/data/raw/rankinfo_origin.csv')\n",
    "df_allrich_info = pd.read_csv('/home/usuario/Documentos/Ironhack/Ironhack-Module-1-Project---Commercial-Optimization/data/raw/allrich_origin.csv')\n",
    "df_allrich_info.head()\n"
   ]
  },
  {
   "cell_type": "code",
   "execution_count": 112,
   "metadata": {},
   "outputs": [],
   "source": [
    "#converting null in zero\n",
    "def conv_null_zero(x):\n",
    "        if pd.notna(x) :\n",
    "            return x\n",
    "        else:\n",
    "            return 0"
   ]
  },
  {
   "cell_type": "code",
   "execution_count": 258,
   "metadata": {},
   "outputs": [
    {
     "data": {
      "text/plain": [
       "0         NaN\n",
       "1         NaN\n",
       "2         NaN\n",
       "3         NaN\n",
       "4         NaN\n",
       "        ...  \n",
       "2255     ZHAO\n",
       "2256     zhOU\n",
       "2257      ZHU\n",
       "2258     zHUO\n",
       "2259    ZORLu\n",
       "Name: lastName, Length: 2260, dtype: object"
      ]
     },
     "metadata": {},
     "output_type": "display_data"
    },
    {
     "data": {
      "text/plain": [
       "0         NaN\n",
       "1         NaN\n",
       "2         NaN\n",
       "3         NaN\n",
       "4         NaN\n",
       "        ...  \n",
       "2255     Zhao\n",
       "2256     Zhou\n",
       "2257      Zhu\n",
       "2258     Zhuo\n",
       "2259    Zorlu\n",
       "Name: lastName, Length: 2260, dtype: object"
      ]
     },
     "metadata": {},
     "output_type": "display_data"
    },
    {
     "data": {
      "text/plain": [
       "0       Anant asavabhokhin & family\n",
       "1                    Arash ferdowsi\n",
       "2          Banthoon lamsam & family\n",
       "3            Bill adderley & family\n",
       "4                 Boris zingarevich\n",
       "                   ...             \n",
       "2255                 Zhao xiaoqiang\n",
       "2256                Zhou liangzhang\n",
       "2257                   Zhu xingming\n",
       "2258                       Zhuo jun\n",
       "2259                    Olgun zorlu\n",
       "Name: name, Length: 2260, dtype: object"
      ]
     },
     "metadata": {},
     "output_type": "display_data"
    }
   ],
   "source": [
    "#personal_info_bi\n",
    "\n",
    "#1 Last_name treatment = Minus caps to all letters and then first one in Mayus\n",
    "\n",
    "def capitalize(x):\n",
    "    try:\n",
    "        b = x.capitalize()\n",
    "        return b\n",
    "    except:\n",
    "        return x\n",
    "\n",
    "display(df_allrich_info['lastName'])\n",
    "\n",
    "df_allrich_info['lastName'] = df_allrich_info['lastName'].apply(capitalize) #1\n",
    "df_allrich_info['name'] = df_allrich_info['name'].apply(capitalize) #1\n",
    "#df_allrich_info['lastName'] = df_allrich_info['lastName'].str.capitalize() #1\n",
    "display(df_allrich_info['lastName'])\n",
    "display(df_allrich_info['name'])\n",
    "\n"
   ]
  },
  {
   "cell_type": "code",
   "execution_count": 260,
   "metadata": {},
   "outputs": [
    {
     "data": {
      "text/plain": [
       "0                NaN\n",
       "1                NaN\n",
       "2                NaN\n",
       "3                NaN\n",
       "4                NaN\n",
       "            ...     \n",
       "2255    51 years old\n",
       "2256    55 years old\n",
       "2257    51 years old\n",
       "2258    52 years old\n",
       "2259    54 years old\n",
       "Name: age, Length: 2260, dtype: object"
      ]
     },
     "metadata": {},
     "output_type": "display_data"
    }
   ],
   "source": [
    "#2 age = whole years (4 digits) calculation to actual age.\n",
    "\n",
    "#función para calcular la edad en función del año\n",
    "def age_calc(x):\n",
    "    try:\n",
    "        if len(str(x)) == 4:\n",
    "            new_age = 2019 - int(x)\n",
    "            return int(new_age)\n",
    "        else:\n",
    "            return int(x)\n",
    "    except:\n",
    "        return x\n",
    "\n",
    "#2 age     \n",
    "df_allrich_info['age'] = df_allrich_info['age'].apply(age_calc)#2\n",
    "display(df_allrich_info['age'])\n",
    "df_allrich_info['age'] = df_allrich_info['age'].apply(age_calc)#2\n",
    "\n"
   ]
  },
  {
   "cell_type": "code",
   "execution_count": 262,
   "metadata": {},
   "outputs": [
    {
     "data": {
      "text/plain": [
       "0        0.0\n",
       "1        0.0\n",
       "2        0.0\n",
       "3        0.0\n",
       "4        0.0\n",
       "        ... \n",
       "2255    51.0\n",
       "2256    55.0\n",
       "2257    51.0\n",
       "2258    52.0\n",
       "2259    54.0\n",
       "Name: age, Length: 2260, dtype: float64"
      ]
     },
     "metadata": {},
     "output_type": "display_data"
    },
    {
     "data": {
      "text/plain": [
       "0        0.0\n",
       "1        0.0\n",
       "2        0.0\n",
       "3        0.0\n",
       "4        0.0\n",
       "        ... \n",
       "2255    51.0\n",
       "2256    55.0\n",
       "2257    51.0\n",
       "2258    52.0\n",
       "2259    54.0\n",
       "Name: age, Length: 2260, dtype: float64"
      ]
     },
     "metadata": {},
     "output_type": "display_data"
    }
   ],
   "source": [
    "#2.1  The rest of the figures remove \"years old\"\n",
    "\n",
    "def replace_str(x):\n",
    "    try:\n",
    "        return int(x.replace(' years old',\"\"))\n",
    "    except:\n",
    "        return x\n",
    "\n",
    "    \n",
    "#2.1 age/years old\n",
    "df_allrich_info['age'] = df_allrich_info['age'].apply(replace_str)#2\n",
    "display(df_allrich_info['age'])\n",
    "df_allrich_info['age'] = df_allrich_info['age'].apply(conv_null_zero)#2 \n",
    "display(df_allrich_info['age'])\n",
    "\n",
    "#def change_years(x):\n",
    "  #  try:\n",
    "   #     for i in x.split(): \n",
    "    #        if i.isdigit() is True:\n",
    "     #           num = i\n",
    "      #  return int(num)\n",
    "    # except:\n",
    "      #  return x\n",
    "    "
   ]
  },
  {
   "cell_type": "code",
   "execution_count": 265,
   "metadata": {
    "scrolled": true
   },
   "outputs": [
    {
     "data": {
      "text/plain": [
       "0       0.0\n",
       "1       0.0\n",
       "2       0.0\n",
       "3       0.0\n",
       "4       0.0\n",
       "       ... \n",
       "2255    1.0\n",
       "2256    1.0\n",
       "2257    1.0\n",
       "2258    1.0\n",
       "2259    1.0\n",
       "Name: worth, Length: 2260, dtype: float64"
      ]
     },
     "metadata": {},
     "output_type": "display_data"
    },
    {
     "data": {
      "text/plain": [
       "0       0.0\n",
       "1       0.0\n",
       "2       0.0\n",
       "3       0.0\n",
       "4       0.0\n",
       "       ... \n",
       "2255    1.0\n",
       "2256    1.0\n",
       "2257    1.0\n",
       "2258    1.0\n",
       "2259    1.0\n",
       "Name: worth, Length: 2260, dtype: float64"
      ]
     },
     "metadata": {},
     "output_type": "display_data"
    }
   ],
   "source": [
    "#5 worth = removed BUSD\n",
    "\n",
    "def convert_billions(x):\n",
    "    try:\n",
    "        return float(x.replace(' BUSD',\"\"))\n",
    "    except:\n",
    "        return float(x)\n",
    "\n",
    "df_allrich_info['worth'] = df_allrich_info['worth'].apply(convert_billions)#5\n",
    "display(df_allrich_info['worth'])\n",
    "df_allrich_info['worth'] = df_allrich_info['worth'].apply(conv_null_zero)#5\n",
    "display(df_allrich_info['worth'])"
   ]
  },
  {
   "cell_type": "code",
   "execution_count": 267,
   "metadata": {},
   "outputs": [
    {
     "data": {
      "text/plain": [
       "0       0.000000e+00\n",
       "1      -1.000000e+51\n",
       "2      -2.000000e+51\n",
       "3       0.000000e+00\n",
       "4       0.000000e+00\n",
       "            ...     \n",
       "2203    0.000000e+00\n",
       "2204             NaN\n",
       "2205    0.000000e+00\n",
       "2206    0.000000e+00\n",
       "2207             NaN\n",
       "Name: worthChange, Length: 2208, dtype: float64"
      ]
     },
     "metadata": {},
     "output_type": "display_data"
    },
    {
     "data": {
      "text/plain": [
       "0       0.0\n",
       "1       0.0\n",
       "2       0.0\n",
       "3       0.0\n",
       "4       0.0\n",
       "       ... \n",
       "2255    0.0\n",
       "2256    0.0\n",
       "2257    0.0\n",
       "2258    0.0\n",
       "2259    0.0\n",
       "Name: worthChange, Length: 2260, dtype: float64"
      ]
     },
     "metadata": {},
     "output_type": "display_data"
    },
    {
     "data": {
      "text/plain": [
       "0       0.0\n",
       "1       0.0\n",
       "2       0.0\n",
       "3       0.0\n",
       "4       0.0\n",
       "       ... \n",
       "2255    0.0\n",
       "2256    0.0\n",
       "2257    0.0\n",
       "2258    0.0\n",
       "2259    0.0\n",
       "Name: worthChange, Length: 2260, dtype: float64"
      ]
     },
     "metadata": {},
     "output_type": "display_data"
    }
   ],
   "source": [
    "display(df_bus_info['worthChange'])\n",
    "#6 worthchange = removed millions USD and then multiply it for 1.000.000\n",
    "\n",
    "def convert_millions(x):\n",
    "    try:\n",
    "        return float(x.replace(' millions USD',\"\"))*1000000\n",
    "    except:\n",
    "        return float(x)*1000000\n",
    "\n",
    "df_allrich_info['worthChange'] = df_allrich_info['worthChange'].apply(convert_millions)#5\n",
    "display(df_allrich_info['worthChange'])\n",
    "df_allrich_info['worthChange'] = df_allrich_info['worthChange'].apply(conv_null_zero)\n",
    "display(df_allrich_info['worthChange'])\n"
   ]
  },
  {
   "cell_type": "code",
   "execution_count": 268,
   "metadata": {},
   "outputs": [],
   "source": [
    "#Analysis\n",
    "\n",
    "#business_info_bi\n",
    "#4 source --> Divided by 2 columns from ==> first one is industry_1 second industry_2 \n",
    "\n",
    "#3 gender = Male to M\n",
    "\n",
    "\n",
    "str= 'Technology  ==> Microsoft'\n"
   ]
  },
  {
   "cell_type": "code",
   "execution_count": null,
   "metadata": {},
   "outputs": [],
   "source": [
    "\n",
    "\n"
   ]
  },
  {
   "cell_type": "markdown",
   "metadata": {},
   "source": []
  },
  {
   "cell_type": "code",
   "execution_count": null,
   "metadata": {},
   "outputs": [],
   "source": []
  }
 ],
 "metadata": {
  "kernelspec": {
   "display_name": "Python [conda env:test_env2] *",
   "language": "python",
   "name": "conda-env-test_env2-py"
  },
  "language_info": {
   "codemirror_mode": {
    "name": "ipython",
    "version": 3
   },
   "file_extension": ".py",
   "mimetype": "text/x-python",
   "name": "python",
   "nbconvert_exporter": "python",
   "pygments_lexer": "ipython3",
   "version": "3.7.5"
  }
 },
 "nbformat": 4,
 "nbformat_minor": 2
}
